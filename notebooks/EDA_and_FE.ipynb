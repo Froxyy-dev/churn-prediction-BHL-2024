{
 "cells": [
  {
   "cell_type": "code",
   "execution_count": null,
   "id": "initial_id",
   "metadata": {
    "ExecuteTime": {
     "end_time": "2024-04-21T05:51:08.519500Z",
     "start_time": "2024-04-21T05:51:08.171997Z"
    }
   },
   "outputs": [],
   "source": [
    "%matplotlib inline\n",
    "import pandas as pd\n",
    "import matplotlib.pyplot as plt\n",
    "import seaborn as sns\n",
    "from sklearn.preprocessing import LabelEncoder, PolynomialFeatures\n",
    "\n",
    "from visualization_helpers import plot_log_histograms, plot_nonzero_hist_log_values\n",
    "from data_cleaning_helpers import clean_dataframe"
   ]
  },
  {
   "cell_type": "code",
   "execution_count": null,
   "id": "b34de8babcfd8ac5",
   "metadata": {
    "ExecuteTime": {
     "end_time": "2024-04-21T05:51:10.026063Z",
     "start_time": "2024-04-21T05:51:09.560989Z"
    }
   },
   "outputs": [],
   "source": [
    "df = pd.read_csv('../data/telecom/cell2celltrain.csv')\n",
    "\n",
    "clean_dataframe(df)\n",
    "\n",
    "df.info()"
   ]
  },
  {
   "cell_type": "markdown",
   "id": "20257db9b7896ced",
   "metadata": {},
   "source": [
    "# Further data exploration and feature engineering"
   ]
  },
  {
   "cell_type": "code",
   "execution_count": null,
   "id": "f1d5364fb4efefb",
   "metadata": {
    "ExecuteTime": {
     "end_time": "2024-04-21T06:50:18.810438Z",
     "start_time": "2024-04-21T06:50:15.676098Z"
    }
   },
   "outputs": [],
   "source": [
    "# Now that we have a basic understanding of the data distribution we will explore the data even more.\n",
    "LOG_COLUMNS = [\n",
    "    'MonthlyRevenue',\n",
    "    'MonthlyMinutes',\n",
    "    'DroppedCalls',\n",
    "    'UnansweredCalls',\n",
    "    'PeakCallsInOut',\n",
    "]\n",
    "\n",
    "\n",
    "plot_log_histograms(df, LOG_COLUMNS)"
   ]
  },
  {
   "cell_type": "markdown",
   "id": "74c26cc5e16577bd",
   "metadata": {},
   "source": [
    "# We can observe that a lot of data is condensed at zero"
   ]
  },
  {
   "cell_type": "code",
   "execution_count": null,
   "id": "77bde93f5e67e77c",
   "metadata": {
    "ExecuteTime": {
     "end_time": "2024-04-21T05:51:40.597993Z",
     "start_time": "2024-04-21T05:51:25.027482Z"
    }
   },
   "outputs": [],
   "source": [
    "ZERO_IMBALANCE_COLUMNS = [\n",
    "    'DirectorAssistedCalls',\n",
    "    'OverageMinutes',\n",
    "    'RoamingCalls',\n",
    "    'DroppedCalls',\n",
    "    'ReceivedCalls',\n",
    "]\n",
    "\n",
    "plot_nonzero_hist_log_values(df, ZERO_IMBALANCE_COLUMNS)"
   ]
  },
  {
   "cell_type": "markdown",
   "id": "c109544038972cdd",
   "metadata": {},
   "source": [
    "# Multivariate Analysis"
   ]
  },
  {
   "cell_type": "code",
   "execution_count": null,
   "id": "506f8e93fbfe76a4",
   "metadata": {
    "ExecuteTime": {
     "start_time": "2024-04-21T08:57:04.459900Z"
    }
   },
   "outputs": [],
   "source": [
    "USER_BEHAVIOUR = [\n",
    "    'Churn',\n",
    "    'CurrentEquipmentDays',\n",
    "    'MonthlyMinutes',\n",
    "    'MonthsInService',\n",
    "    'PercChangeMinutes',\n",
    "]\n",
    "\n",
    "fig = sns.pairplot(df[USER_BEHAVIOUR], hue = 'Churn')\n",
    "fig.savefig(\"../plots/user_behaviour.png\") \n",
    "\n",
    "USER_DATA = [\n",
    "    'Churn',\n",
    "    'AgeHH1',\n",
    "    'AgeHH2',\n",
    "    'HasCreditCard',\n",
    "    'CreditRating',\n",
    "    'AdjustmentsToCreditRating',\n",
    "]\n",
    "\n",
    "fig = sns.pairplot(df[USER_DATA], hue = 'Churn')\n",
    "fig.savefig(\"../plots/user_data.png\")\n",
    "\n",
    "COSTS_DATA = [\n",
    "    'Churn',\n",
    "    'MonthlyRevenue',\n",
    "    'TotalRecurringCharge',\n",
    "    'PercChangeRevenues',\n",
    "    'RoamingCalls',\n",
    "    'OverageMinutes',\n",
    "]\n",
    "\n",
    "fig = sns.pairplot(df[COSTS_DATA], hue = 'Churn')\n",
    "fig.savefig(\"../plots/cost_data.png\")\n",
    "\n",
    "\n",
    "CARE_SERVICE = [\n",
    "    'Churn',\n",
    "    'RetentionCalls',\n",
    "    'CustomerCareCalls',\n",
    "    'DirectorAssistedCalls',\n",
    "    'RespondsToMailOffers',\n",
    "    'ReferralsMadeBySubscriber',\n",
    "    'RetentionOffersAccepted',\n",
    "]\n",
    "\n",
    "fig = sns.pairplot(df[CARE_SERVICE], hue = 'Churn')\n",
    "fig.savefig(\"../plots/care_service.png\")"
   ]
  },
  {
   "cell_type": "code",
   "execution_count": null,
   "id": "938711997da733f1",
   "metadata": {
    "ExecuteTime": {
     "end_time": "2024-04-21T08:43:47.400088Z",
     "start_time": "2024-04-21T08:43:47.396011Z"
    }
   },
   "outputs": [],
   "source": [
    "def display_correlation(df):\n",
    "    df_copy = df.copy()\n",
    "    label_encoder = LabelEncoder()\n",
    "    for column in df.select_dtypes(include='object'):\n",
    "        df_copy[column] = label_encoder.fit_transform(df_copy[column])\n",
    "    \n",
    "    corr = df_copy.corr()\n",
    "    plt.figure(figsize=(20,10))\n",
    "    sns.heatmap(corr)\n",
    "    plt.show()"
   ]
  },
  {
   "cell_type": "code",
   "execution_count": null,
   "id": "a8690079709de52c",
   "metadata": {
    "ExecuteTime": {
     "end_time": "2024-04-21T08:43:53.451825Z",
     "start_time": "2024-04-21T08:43:51.554259Z"
    }
   },
   "outputs": [],
   "source": [
    "display_correlation(df)"
   ]
  },
  {
   "cell_type": "markdown",
   "id": "a0bfe6bc2fbbd912",
   "metadata": {},
   "source": [
    "# Feature engineering"
   ]
  },
  {
   "cell_type": "code",
   "execution_count": null,
   "id": "98811c8312e876e3",
   "metadata": {
    "ExecuteTime": {
     "end_time": "2024-04-21T05:25:36.035141Z",
     "start_time": "2024-04-21T05:25:35.996270Z"
    }
   },
   "outputs": [],
   "source": [
    "def square_features(df, columns):\n",
    "    poly = PolynomialFeatures(degree=2, include_bias=False)\n",
    "    poly_data = poly.fit_transform(df[columns])\n",
    "    poly_columns = poly.get_feature_names_out(columns)\n",
    "    df_poly = pd.DataFrame(poly_data, columns=poly_columns)\n",
    "    return df_poly, poly_columns\n",
    "\n",
    "\n",
    "def square_and_concat_features(df, columns):\n",
    "    df_poly, poly_columns = square_features(df, columns)\n",
    "    df = pd.concat([df, df_poly], axis=1)\n",
    "    return df, poly_columns\n",
    "\n",
    "columns = ['MonthlyMinutes', 'TotalRecurringCharge']\n",
    "df, poly_columns = square_and_concat_features(df, columns)"
   ]
  },
  {
   "cell_type": "markdown",
   "id": "4de3b4b3a5b799ad",
   "metadata": {},
   "source": []
  },
  {
   "cell_type": "code",
   "execution_count": null,
   "id": "91a291992522711e",
   "metadata": {},
   "outputs": [],
   "source": []
  }
 ],
 "metadata": {
  "kernelspec": {
   "display_name": "Python 3",
   "language": "python",
   "name": "python3"
  },
  "language_info": {
   "codemirror_mode": {
    "name": "ipython",
    "version": 2
   },
   "file_extension": ".py",
   "mimetype": "text/x-python",
   "name": "python",
   "nbconvert_exporter": "python",
   "pygments_lexer": "ipython2",
   "version": "2.7.6"
  }
 },
 "nbformat": 4,
 "nbformat_minor": 5
}
